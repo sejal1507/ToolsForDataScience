{
 "cells": [
  {
   "cell_type": "markdown",
   "id": "05530d12-e442-46fc-9bde-9176c66187e4",
   "metadata": {},
   "source": [
    "# Data Science Tools and Ecosystem"
   ]
  },
  {
   "cell_type": "markdown",
   "id": "baa50fcf-4c45-4641-8cc0-0537af99344d",
   "metadata": {},
   "source": [
    "In this notebook, Data Science Tools and Ecosystem are summarized."
   ]
  },
  {
   "cell_type": "markdown",
   "id": "95574441-ce41-44bf-a261-7df08227d188",
   "metadata": {},
   "source": [
    "Some of the popular languages that Data Scientists use are:\n",
    "1. Python\n",
    "2. R\n",
    "3. Java\n",
    "4. Scala\n",
    "5. Julia"
   ]
  },
  {
   "cell_type": "markdown",
   "id": "d16b8e25-a789-4d05-aea1-4d4fd45aa64d",
   "metadata": {},
   "source": [
    "Some  of the commonly used libraries used by Data Scientists include:\n",
    "\n",
    "1. Numpy\n",
    "2. Pandas\n",
    "3. Scikit-learn\n",
    "4. Matplotlib\n",
    "5. Tensorflow"
   ]
  },
  {
   "cell_type": "markdown",
   "id": "bb36bda5-8260-4cc5-836d-9d7b81da16a6",
   "metadata": {},
   "source": [
    "|**Data Science Tools**|\n",
    "|----------------------|\n",
    "|VS Code               |\n",
    "|Github                |\n",
    "|Jupyter Notebook      |"
   ]
  },
  {
   "cell_type": "markdown",
   "id": "732d7585-3125-46f1-8b38-3c159192aa39",
   "metadata": {},
   "source": [
    "***Below are a few examples of evaluating arithmetic expressions in Python.***"
   ]
  },
  {
   "cell_type": "code",
   "execution_count": 12,
   "id": "551875a6-3dcc-4422-9e79-544c2cf22932",
   "metadata": {},
   "outputs": [
    {
     "data": {
      "text/plain": [
       "17"
      ]
     },
     "execution_count": 12,
     "metadata": {},
     "output_type": "execute_result"
    }
   ],
   "source": [
    "# This a simple arithmetic expression to multiply then add integers.\n",
    "(3*4)+5"
   ]
  },
  {
   "cell_type": "code",
   "execution_count": 13,
   "id": "dd7bfbb5-c7af-4df6-8ba9-7535e0ab70e3",
   "metadata": {},
   "outputs": [
    {
     "data": {
      "text/plain": [
       "3"
      ]
     },
     "execution_count": 13,
     "metadata": {},
     "output_type": "execute_result"
    }
   ],
   "source": [
    "#This will convert 200 minutes to hours by dividing by 60\n",
    "hours = 200//60\n",
    "hours"
   ]
  },
  {
   "cell_type": "markdown",
   "id": "7f06dd0b-57de-4378-a649-250a02f4825a",
   "metadata": {},
   "source": [
    "**Objectives:**\n",
    "- Popular languages for Data Science\n",
    "- Popular libraries for Data Science\n",
    "- Conversion of minutes into hours\n",
    "- Writing text using h1 Style\n",
    "- Perform Arithmetic Operations"
   ]
  },
  {
   "cell_type": "markdown",
   "id": "94015672-686d-400b-ac2a-f537552afefa",
   "metadata": {},
   "source": [
    "## Author\n",
    "Sejal Patel"
   ]
  },
  {
   "cell_type": "code",
   "execution_count": null,
   "id": "2aeea5f8-613a-4080-ac97-fb2165627e8d",
   "metadata": {},
   "outputs": [],
   "source": []
  }
 ],
 "metadata": {
  "kernelspec": {
   "display_name": "Python 3 (ipykernel)",
   "language": "python",
   "name": "python3"
  },
  "language_info": {
   "codemirror_mode": {
    "name": "ipython",
    "version": 3
   },
   "file_extension": ".py",
   "mimetype": "text/x-python",
   "name": "python",
   "nbconvert_exporter": "python",
   "pygments_lexer": "ipython3",
   "version": "3.12.4"
  }
 },
 "nbformat": 4,
 "nbformat_minor": 5
}
